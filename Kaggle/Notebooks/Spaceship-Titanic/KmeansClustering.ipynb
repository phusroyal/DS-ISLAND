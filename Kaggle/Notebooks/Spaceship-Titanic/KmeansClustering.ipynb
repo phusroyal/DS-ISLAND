{
 "cells": [
  {
   "cell_type": "code",
   "execution_count": 2,
   "metadata": {},
   "outputs": [],
   "source": [
    "from IPython.display import clear_output\n",
    "!pip3 install -U pandas #Upgrading pandas\n",
    "\n",
    "clear_output()"
   ]
  },
  {
   "cell_type": "code",
   "execution_count": 10,
   "metadata": {},
   "outputs": [],
   "source": [
    "import numpy as np\n",
    "import pandas as pd\n",
    "import matplotlib.pyplot as plt\n",
    "from sklearn.impute import SimpleImputer\n",
    "from sklearn.metrics import accuracy_score\n",
    "from sklearn.preprocessing import LabelEncoder\n",
    "from sklearn.model_selection import StratifiedKFold, train_test_split"
   ]
  },
  {
   "attachments": {},
   "cell_type": "markdown",
   "metadata": {},
   "source": [
    "# Data Preprocessing"
   ]
  },
  {
   "cell_type": "code",
   "execution_count": 20,
   "metadata": {},
   "outputs": [],
   "source": [
    "train = pd.read_csv(\"/home/phus/Desktop/DS-ISLAND/Kaggle/Data/Spaceship-titanic/train.csv\")\n",
    "test = pd.read_csv(\"/home/phus/Desktop/DS-ISLAND/Kaggle/Data/Spaceship-titanic/test.csv\")\n",
    "submission = pd.read_csv(\"/home/phus/Desktop/DS-ISLAND/Kaggle/Data/Spaceship-titanic/sample_submission.csv\")\n",
    "\n",
    "TARGET = 'Transported'"
   ]
  },
  {
   "cell_type": "code",
   "execution_count": 21,
   "metadata": {},
   "outputs": [],
   "source": [
    "imputer_cols = [\"Age\", \"FoodCourt\", \"ShoppingMall\", \"Spa\", \"VRDeck\" ,\"RoomService\"]\n",
    "imputer = SimpleImputer(strategy=\"median\" )\n",
    "imputer.fit(train[imputer_cols])\n",
    "train[imputer_cols] = imputer.transform(train[imputer_cols])\n",
    "test[imputer_cols] = imputer.transform(test[imputer_cols])\n",
    "train[\"HomePlanet\"].fillna('Z', inplace=True)\n",
    "test[\"HomePlanet\"].fillna('Z', inplace=True)"
   ]
  },
  {
   "cell_type": "code",
   "execution_count": 22,
   "metadata": {},
   "outputs": [],
   "source": [
    "label_cols = [\"HomePlanet\", \"CryoSleep\",\"Cabin\", \"Destination\" ,\"VIP\"]\n",
    "def label_encoder(train,test,columns):\n",
    "    for col in columns:\n",
    "        train[col] = train[col].astype(str)\n",
    "        test[col] = test[col].astype(str)\n",
    "        train[col] = LabelEncoder().fit_transform(train[col])\n",
    "        test[col] =  LabelEncoder().fit_transform(test[col])\n",
    "    return train, test\n",
    "\n",
    "train ,test = label_encoder(train,test ,label_cols)"
   ]
  },
  {
   "cell_type": "code",
   "execution_count": 23,
   "metadata": {},
   "outputs": [],
   "source": [
    "train.drop([\"Name\" ,\"Cabin\", \"PassengerId\"] , axis = 1 ,inplace = True)\n",
    "test.drop([\"Name\" ,\"Cabin\", \"PassengerId\"] , axis = 1 ,inplace = True)\n",
    "X = train.drop(TARGET , axis =1 )\n",
    "y = train[TARGET]\n",
    "X_train , X_test , y_train , y_test = train_test_split(X , \n",
    "                                                       y, \n",
    "                                                       random_state = 12 ,\n",
    "                                                       test_size =0.33)"
   ]
  },
  {
   "cell_type": "code",
   "execution_count": 24,
   "metadata": {},
   "outputs": [
    {
     "data": {
      "text/html": [
       "<div>\n",
       "<style scoped>\n",
       "    .dataframe tbody tr th:only-of-type {\n",
       "        vertical-align: middle;\n",
       "    }\n",
       "\n",
       "    .dataframe tbody tr th {\n",
       "        vertical-align: top;\n",
       "    }\n",
       "\n",
       "    .dataframe thead th {\n",
       "        text-align: right;\n",
       "    }\n",
       "</style>\n",
       "<table border=\"1\" class=\"dataframe\">\n",
       "  <thead>\n",
       "    <tr style=\"text-align: right;\">\n",
       "      <th></th>\n",
       "      <th>HomePlanet</th>\n",
       "      <th>CryoSleep</th>\n",
       "      <th>Destination</th>\n",
       "      <th>Age</th>\n",
       "      <th>VIP</th>\n",
       "      <th>RoomService</th>\n",
       "      <th>FoodCourt</th>\n",
       "      <th>ShoppingMall</th>\n",
       "      <th>Spa</th>\n",
       "      <th>VRDeck</th>\n",
       "    </tr>\n",
       "  </thead>\n",
       "  <tbody>\n",
       "    <tr>\n",
       "      <th>2033</th>\n",
       "      <td>0</td>\n",
       "      <td>1</td>\n",
       "      <td>1</td>\n",
       "      <td>27.0</td>\n",
       "      <td>0</td>\n",
       "      <td>0.0</td>\n",
       "      <td>0.0</td>\n",
       "      <td>0.0</td>\n",
       "      <td>0.0</td>\n",
       "      <td>0.0</td>\n",
       "    </tr>\n",
       "    <tr>\n",
       "      <th>1516</th>\n",
       "      <td>0</td>\n",
       "      <td>0</td>\n",
       "      <td>2</td>\n",
       "      <td>42.0</td>\n",
       "      <td>0</td>\n",
       "      <td>0.0</td>\n",
       "      <td>865.0</td>\n",
       "      <td>0.0</td>\n",
       "      <td>0.0</td>\n",
       "      <td>44.0</td>\n",
       "    </tr>\n",
       "    <tr>\n",
       "      <th>623</th>\n",
       "      <td>2</td>\n",
       "      <td>1</td>\n",
       "      <td>2</td>\n",
       "      <td>58.0</td>\n",
       "      <td>0</td>\n",
       "      <td>0.0</td>\n",
       "      <td>0.0</td>\n",
       "      <td>0.0</td>\n",
       "      <td>0.0</td>\n",
       "      <td>0.0</td>\n",
       "    </tr>\n",
       "    <tr>\n",
       "      <th>6751</th>\n",
       "      <td>1</td>\n",
       "      <td>1</td>\n",
       "      <td>0</td>\n",
       "      <td>22.0</td>\n",
       "      <td>0</td>\n",
       "      <td>0.0</td>\n",
       "      <td>0.0</td>\n",
       "      <td>0.0</td>\n",
       "      <td>0.0</td>\n",
       "      <td>0.0</td>\n",
       "    </tr>\n",
       "    <tr>\n",
       "      <th>1648</th>\n",
       "      <td>0</td>\n",
       "      <td>0</td>\n",
       "      <td>2</td>\n",
       "      <td>21.0</td>\n",
       "      <td>0</td>\n",
       "      <td>0.0</td>\n",
       "      <td>0.0</td>\n",
       "      <td>0.0</td>\n",
       "      <td>2.0</td>\n",
       "      <td>807.0</td>\n",
       "    </tr>\n",
       "    <tr>\n",
       "      <th>...</th>\n",
       "      <td>...</td>\n",
       "      <td>...</td>\n",
       "      <td>...</td>\n",
       "      <td>...</td>\n",
       "      <td>...</td>\n",
       "      <td>...</td>\n",
       "      <td>...</td>\n",
       "      <td>...</td>\n",
       "      <td>...</td>\n",
       "      <td>...</td>\n",
       "    </tr>\n",
       "    <tr>\n",
       "      <th>278</th>\n",
       "      <td>0</td>\n",
       "      <td>0</td>\n",
       "      <td>2</td>\n",
       "      <td>18.0</td>\n",
       "      <td>0</td>\n",
       "      <td>0.0</td>\n",
       "      <td>0.0</td>\n",
       "      <td>1359.0</td>\n",
       "      <td>0.0</td>\n",
       "      <td>0.0</td>\n",
       "    </tr>\n",
       "    <tr>\n",
       "      <th>3714</th>\n",
       "      <td>0</td>\n",
       "      <td>0</td>\n",
       "      <td>2</td>\n",
       "      <td>4.0</td>\n",
       "      <td>0</td>\n",
       "      <td>0.0</td>\n",
       "      <td>0.0</td>\n",
       "      <td>0.0</td>\n",
       "      <td>0.0</td>\n",
       "      <td>0.0</td>\n",
       "    </tr>\n",
       "    <tr>\n",
       "      <th>7409</th>\n",
       "      <td>2</td>\n",
       "      <td>1</td>\n",
       "      <td>2</td>\n",
       "      <td>24.0</td>\n",
       "      <td>0</td>\n",
       "      <td>0.0</td>\n",
       "      <td>0.0</td>\n",
       "      <td>0.0</td>\n",
       "      <td>0.0</td>\n",
       "      <td>0.0</td>\n",
       "    </tr>\n",
       "    <tr>\n",
       "      <th>3325</th>\n",
       "      <td>2</td>\n",
       "      <td>1</td>\n",
       "      <td>2</td>\n",
       "      <td>19.0</td>\n",
       "      <td>0</td>\n",
       "      <td>0.0</td>\n",
       "      <td>0.0</td>\n",
       "      <td>0.0</td>\n",
       "      <td>0.0</td>\n",
       "      <td>0.0</td>\n",
       "    </tr>\n",
       "    <tr>\n",
       "      <th>5787</th>\n",
       "      <td>1</td>\n",
       "      <td>0</td>\n",
       "      <td>0</td>\n",
       "      <td>33.0</td>\n",
       "      <td>1</td>\n",
       "      <td>0.0</td>\n",
       "      <td>3095.0</td>\n",
       "      <td>0.0</td>\n",
       "      <td>197.0</td>\n",
       "      <td>40.0</td>\n",
       "    </tr>\n",
       "  </tbody>\n",
       "</table>\n",
       "<p>5824 rows × 10 columns</p>\n",
       "</div>"
      ],
      "text/plain": [
       "      HomePlanet  CryoSleep  Destination   Age  VIP  RoomService  FoodCourt  \\\n",
       "2033           0          1            1  27.0    0          0.0        0.0   \n",
       "1516           0          0            2  42.0    0          0.0      865.0   \n",
       "623            2          1            2  58.0    0          0.0        0.0   \n",
       "6751           1          1            0  22.0    0          0.0        0.0   \n",
       "1648           0          0            2  21.0    0          0.0        0.0   \n",
       "...          ...        ...          ...   ...  ...          ...        ...   \n",
       "278            0          0            2  18.0    0          0.0        0.0   \n",
       "3714           0          0            2   4.0    0          0.0        0.0   \n",
       "7409           2          1            2  24.0    0          0.0        0.0   \n",
       "3325           2          1            2  19.0    0          0.0        0.0   \n",
       "5787           1          0            0  33.0    1          0.0     3095.0   \n",
       "\n",
       "      ShoppingMall    Spa  VRDeck  \n",
       "2033           0.0    0.0     0.0  \n",
       "1516           0.0    0.0    44.0  \n",
       "623            0.0    0.0     0.0  \n",
       "6751           0.0    0.0     0.0  \n",
       "1648           0.0    2.0   807.0  \n",
       "...            ...    ...     ...  \n",
       "278         1359.0    0.0     0.0  \n",
       "3714           0.0    0.0     0.0  \n",
       "7409           0.0    0.0     0.0  \n",
       "3325           0.0    0.0     0.0  \n",
       "5787           0.0  197.0    40.0  \n",
       "\n",
       "[5824 rows x 10 columns]"
      ]
     },
     "execution_count": 24,
     "metadata": {},
     "output_type": "execute_result"
    }
   ],
   "source": [
    "X_train"
   ]
  },
  {
   "attachments": {},
   "cell_type": "markdown",
   "metadata": {},
   "source": [
    "# Modeling"
   ]
  },
  {
   "cell_type": "code",
   "execution_count": 25,
   "metadata": {},
   "outputs": [],
   "source": [
    "from __future__ import print_function\n",
    "import numpy as np\n",
    "from scipy.spatial.distance import cdist\n",
    "import random"
   ]
  },
  {
   "cell_type": "code",
   "execution_count": 53,
   "metadata": {},
   "outputs": [],
   "source": [
    "def kmeans_init_centroids (X, k):\n",
    "    # randomly select k rows of X as initial centroids\n",
    "    return X[np.random.choice(X.shape[0], k, replace = False)]\n",
    "\n",
    "def kmeans_assign_labels(X, centroids):\n",
    "    # calculate pairwise distances btw data and centroids\n",
    "    D = cdist(X, centroids)\n",
    "    # return index of the closest centroid\n",
    "    return np.argmin(D, axis=1)\n",
    "\n",
    "def has_converged(centroids, new_centroids):\n",
    "    # return True if two sets of centroids are the same\n",
    "    return (set([tuple(a) for a in centroids])) == set([tuple(a) for a in new_centroids])\n",
    "\n",
    "def kmeans_update_centroids(X, labels, K):\n",
    "    centroids = np.zeros((K,  X.shape[1]))\n",
    "    \n",
    "    for k in range(K):\n",
    "        # collect all points that are assigned to the k-th cluster\n",
    "        Xk = X[labels == k, :]\n",
    "        centroids[k, :] = np.mean(Xk, axis=0)   # then take avg\n",
    "        \n",
    "    return centroids\n",
    "\n",
    "def euclidean(point, data):\n",
    "    \"\"\"\n",
    "    Euclidean distance between point & data.\n",
    "    Point has dimensions (m,), data has dimensions (n,m), and output will be of size (n,).\n",
    "    \"\"\"\n",
    "    return np.sqrt(np.sum((point - data)**2, axis=1))\n",
    "\n",
    "def evaluate_kmeans(X, K, centroids):\n",
    "    centroids_found = []\n",
    "    centroid_idxs = []\n",
    "    for x in X:\n",
    "        dists = euclidean(x, centroids)\n",
    "        centroid_idx = np.argmin(dists)\n",
    "        centroids_found.append(centroids[centroid_idx])\n",
    "        centroid_idxs.append(centroid_idx)\n",
    "    return centroids_found, centroid_idxs\n",
    "\n",
    "def kmeans(X, K):\n",
    "    centroids = [kmeans_init_centroids(X, K)]\n",
    "    labels = []\n",
    "    it = 0\n",
    "    while True:\n",
    "        labels.append(kmeans_assign_labels(X, centroids[-1]))\n",
    "        new_centroids = kmeans_update_centroids(X, labels[-1], K)\n",
    "        if has_converged(centroids[-1], new_centroids):\n",
    "            break\n",
    "        centroids.append(new_centroids)\n",
    "        it+=1\n",
    "    return (centroids, labels, it)"
   ]
  },
  {
   "cell_type": "code",
   "execution_count": 42,
   "metadata": {},
   "outputs": [
    {
     "data": {
      "text/plain": [
       "array([[ -577.77373452,  -216.15425634],\n",
       "       [ -407.10799042,   148.50676695],\n",
       "       [ 4567.21771111,  2540.15362518],\n",
       "       ...,\n",
       "       [ -585.97255031,  -199.13171493],\n",
       "       [ 1397.92104075,  1796.25369392],\n",
       "       [ 3732.74108539, -2054.89443566]])"
      ]
     },
     "execution_count": 42,
     "metadata": {},
     "output_type": "execute_result"
    }
   ],
   "source": [
    "# transform data to two dimensions using PCA\n",
    "from sklearn.decomposition import PCA\n",
    "pca = PCA(n_components=2).fit(X)\n",
    "pca_2d = pca.transform(X)\n",
    "pca_2d"
   ]
  },
  {
   "cell_type": "code",
   "execution_count": 68,
   "metadata": {},
   "outputs": [
    {
     "name": "stdout",
     "output_type": "stream",
     "text": [
      "Centers found by our algorithm:\n",
      " [[7.06094050e-01 4.14467370e-01 1.53310940e+00 2.84695298e+01\n",
      "  6.65786948e-02 2.22455974e+02 1.92621401e+02 1.71731166e+02\n",
      "  2.30309741e+02 2.23086612e+02]\n",
      " [1.02521008e+00 4.48179272e-02 1.09803922e+00 3.62801120e+01\n",
      "  1.40056022e-01 1.62879552e+02 6.42169468e+03 1.19162465e+02\n",
      "  2.03901681e+03 2.05361345e+03]]\n",
      "Labels found by our algorithm:\n",
      " [0 0 1 ... 0 0 1]\n"
     ]
    }
   ],
   "source": [
    "(centroids, labels, it) = kmeans(np.array(X), 2)\n",
    "\n",
    "print('Centers found by our algorithm:\\n', centroids[-1]) \n",
    "print('Labels found by our algorithm:\\n', labels[-1])"
   ]
  },
  {
   "attachments": {},
   "cell_type": "markdown",
   "metadata": {},
   "source": [
    "Evaluate"
   ]
  },
  {
   "cell_type": "code",
   "execution_count": 64,
   "metadata": {},
   "outputs": [
    {
     "data": {
      "text/plain": [
       "array([[-577.78961205, -216.16575311],\n",
       "       [ 206.22610789, 1517.28021446],\n",
       "       [-577.78420084, -216.16189749],\n",
       "       ...,\n",
       "       [-577.78942511, -216.16568591],\n",
       "       [2032.86623965, -915.06441779],\n",
       "       [-577.7685223 , -216.15051454]])"
      ]
     },
     "execution_count": 64,
     "metadata": {},
     "output_type": "execute_result"
    }
   ],
   "source": [
    "from sklearn.decomposition import PCA\n",
    "pca = PCA(n_components=2).fit(X)\n",
    "pca_2d = pca.transform(test)\n",
    "pca_2d"
   ]
  },
  {
   "cell_type": "code",
   "execution_count": 75,
   "metadata": {},
   "outputs": [],
   "source": [
    "centroids_found, centroid_idx = evaluate_kmeans(np.array(test), 2, centroids[-1])"
   ]
  },
  {
   "cell_type": "code",
   "execution_count": 76,
   "metadata": {},
   "outputs": [],
   "source": [
    "submission[TARGET] = centroid_idx\n",
    "\n",
    "# if value in Transported column is 0, then change it to False, vice versa\n",
    "submission[TARGET] = submission[TARGET].apply(lambda x: True if x == 0 else False)"
   ]
  },
  {
   "cell_type": "code",
   "execution_count": 77,
   "metadata": {},
   "outputs": [],
   "source": [
    "submission.to_csv(\"submission_tosubmit.csv\", index=False)"
   ]
  },
  {
   "cell_type": "code",
   "execution_count": 78,
   "metadata": {},
   "outputs": [
    {
     "data": {
      "text/html": [
       "<div>\n",
       "<style scoped>\n",
       "    .dataframe tbody tr th:only-of-type {\n",
       "        vertical-align: middle;\n",
       "    }\n",
       "\n",
       "    .dataframe tbody tr th {\n",
       "        vertical-align: top;\n",
       "    }\n",
       "\n",
       "    .dataframe thead th {\n",
       "        text-align: right;\n",
       "    }\n",
       "</style>\n",
       "<table border=\"1\" class=\"dataframe\">\n",
       "  <thead>\n",
       "    <tr style=\"text-align: right;\">\n",
       "      <th></th>\n",
       "      <th>PassengerId</th>\n",
       "      <th>Transported</th>\n",
       "    </tr>\n",
       "  </thead>\n",
       "  <tbody>\n",
       "    <tr>\n",
       "      <th>0</th>\n",
       "      <td>0013_01</td>\n",
       "      <td>True</td>\n",
       "    </tr>\n",
       "    <tr>\n",
       "      <th>1</th>\n",
       "      <td>0018_01</td>\n",
       "      <td>True</td>\n",
       "    </tr>\n",
       "    <tr>\n",
       "      <th>2</th>\n",
       "      <td>0019_01</td>\n",
       "      <td>True</td>\n",
       "    </tr>\n",
       "    <tr>\n",
       "      <th>3</th>\n",
       "      <td>0021_01</td>\n",
       "      <td>False</td>\n",
       "    </tr>\n",
       "    <tr>\n",
       "      <th>4</th>\n",
       "      <td>0023_01</td>\n",
       "      <td>True</td>\n",
       "    </tr>\n",
       "    <tr>\n",
       "      <th>...</th>\n",
       "      <td>...</td>\n",
       "      <td>...</td>\n",
       "    </tr>\n",
       "    <tr>\n",
       "      <th>4272</th>\n",
       "      <td>9266_02</td>\n",
       "      <td>True</td>\n",
       "    </tr>\n",
       "    <tr>\n",
       "      <th>4273</th>\n",
       "      <td>9269_01</td>\n",
       "      <td>True</td>\n",
       "    </tr>\n",
       "    <tr>\n",
       "      <th>4274</th>\n",
       "      <td>9271_01</td>\n",
       "      <td>True</td>\n",
       "    </tr>\n",
       "    <tr>\n",
       "      <th>4275</th>\n",
       "      <td>9273_01</td>\n",
       "      <td>True</td>\n",
       "    </tr>\n",
       "    <tr>\n",
       "      <th>4276</th>\n",
       "      <td>9277_01</td>\n",
       "      <td>True</td>\n",
       "    </tr>\n",
       "  </tbody>\n",
       "</table>\n",
       "<p>4277 rows × 2 columns</p>\n",
       "</div>"
      ],
      "text/plain": [
       "     PassengerId  Transported\n",
       "0        0013_01         True\n",
       "1        0018_01         True\n",
       "2        0019_01         True\n",
       "3        0021_01        False\n",
       "4        0023_01         True\n",
       "...          ...          ...\n",
       "4272     9266_02         True\n",
       "4273     9269_01         True\n",
       "4274     9271_01         True\n",
       "4275     9273_01         True\n",
       "4276     9277_01         True\n",
       "\n",
       "[4277 rows x 2 columns]"
      ]
     },
     "execution_count": 78,
     "metadata": {},
     "output_type": "execute_result"
    }
   ],
   "source": [
    "submission"
   ]
  },
  {
   "cell_type": "code",
   "execution_count": 63,
   "metadata": {},
   "outputs": [
    {
     "data": {
      "text/plain": [
       "4277"
      ]
     },
     "execution_count": 63,
     "metadata": {},
     "output_type": "execute_result"
    }
   ],
   "source": [
    "len(test)"
   ]
  },
  {
   "cell_type": "code",
   "execution_count": null,
   "metadata": {},
   "outputs": [],
   "source": []
  },
  {
   "cell_type": "code",
   "execution_count": null,
   "metadata": {},
   "outputs": [],
   "source": []
  },
  {
   "cell_type": "code",
   "execution_count": null,
   "metadata": {},
   "outputs": [],
   "source": []
  },
  {
   "cell_type": "code",
   "execution_count": null,
   "metadata": {},
   "outputs": [],
   "source": []
  },
  {
   "cell_type": "code",
   "execution_count": null,
   "metadata": {},
   "outputs": [],
   "source": []
  },
  {
   "cell_type": "code",
   "execution_count": null,
   "metadata": {},
   "outputs": [],
   "source": []
  },
  {
   "cell_type": "code",
   "execution_count": null,
   "metadata": {},
   "outputs": [],
   "source": []
  },
  {
   "cell_type": "code",
   "execution_count": null,
   "metadata": {},
   "outputs": [],
   "source": []
  }
 ],
 "metadata": {
  "kernelspec": {
   "display_name": "ner-py38-ds-conda-env",
   "language": "python",
   "name": "python3"
  },
  "language_info": {
   "codemirror_mode": {
    "name": "ipython",
    "version": 3
   },
   "file_extension": ".py",
   "mimetype": "text/x-python",
   "name": "python",
   "nbconvert_exporter": "python",
   "pygments_lexer": "ipython3",
   "version": "3.8.15 (default, Nov 24 2022, 15:19:38) \n[GCC 11.2.0]"
  },
  "orig_nbformat": 4,
  "vscode": {
   "interpreter": {
    "hash": "23ebb4a4507fb8292995862024306c61b54b82497fd27fe6bf5dbe4586170e5a"
   }
  }
 },
 "nbformat": 4,
 "nbformat_minor": 2
}
