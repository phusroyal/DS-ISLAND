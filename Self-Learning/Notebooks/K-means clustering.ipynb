{
 "cells": [
  {
   "cell_type": "code",
   "execution_count": 2,
   "metadata": {},
   "outputs": [],
   "source": [
    "from __future__ import print_function\n",
    "import numpy as np\n",
    "from scipy.spatial.distance import cdist\n",
    "import random\n",
    "\n",
    "np.random.seed(18)\n",
    "\n",
    "means = [[2, 2], [8, 3], [3, 6]]\n",
    "cov = [[1, 0], [0, 1]]\n",
    "N = 500\n",
    "\n",
    "X0 = np.random.multivariate_normal(means[0], cov, N)\n",
    "X1 = np.random.multivariate_normal(means[1], cov, N)\n",
    "X2 = np.random.multivariate_normal(means[2], cov, N)\n",
    "\n",
    "X = np.concatenate((X0, X1, X2), axis = 0)\n",
    "K = 3\n",
    "original_label = np.asarray([0]*N + [1]*N + [2]*N).T"
   ]
  },
  {
   "cell_type": "code",
   "execution_count": 6,
   "metadata": {},
   "outputs": [
    {
     "data": {
      "text/plain": [
       "array([0, 0, 0, ..., 2, 2, 2])"
      ]
     },
     "execution_count": 6,
     "metadata": {},
     "output_type": "execute_result"
    }
   ],
   "source": [
    "# X0\n",
    "# X\n",
    "original_label"
   ]
  },
  {
   "attachments": {},
   "cell_type": "markdown",
   "metadata": {},
   "source": [
    "Functions for K-means clustering\n",
    "1. **kmeans_init_centroids** -> Initialize the first centroids\n",
    "2. **kmeans_asign_labels** -> Find new labels for data when centroids are set\n",
    "3. **kmeans_update_centroids** -> Update centroids when we know the label of each data\n",
    "4. **has_converged** -> To check the stop condition"
   ]
  },
  {
   "cell_type": "code",
   "execution_count": 7,
   "metadata": {},
   "outputs": [],
   "source": [
    "def kmeans_init_centroids (X, k):\n",
    "    # randomly select k rows of X as initial centroids\n",
    "    return X[np.random.choice(X.shape[0], k, replace = False)]\n",
    "\n",
    "def kmeans_assign_labels(X, centroids):\n",
    "    # calculate pairwise distances btw data and centroids\n",
    "    D = cdist(X, centroids)\n",
    "    # return index of the closest centroid\n",
    "    return np.argmin(D, axis=1)\n",
    "\n",
    "def has_converged(centroids, new_centroids):\n",
    "    # return True if two sets of centroids are the same\n",
    "    return (set([tuple(a) for a in centroids])) == set([tuple(a) for a in new_centroids])\n",
    "\n",
    "def kmeans_update_centroids(X, labels, K):\n",
    "    centroids = np.zeros((K,  X.shape[1]))\n",
    "    \n",
    "    for k in range(K):\n",
    "        # collect all points that are assigned to the k-th cluster\n",
    "        Xk = X[labels == k, :]\n",
    "        centroids[k, :] = np.mean(Xk, axis=0)   # then take avg\n",
    "        \n",
    "    return centroids"
   ]
  },
  {
   "attachments": {},
   "cell_type": "markdown",
   "metadata": {},
   "source": [
    "K-means clustering"
   ]
  },
  {
   "cell_type": "code",
   "execution_count": 8,
   "metadata": {},
   "outputs": [],
   "source": [
    "def kmeans(X, K):\n",
    "    centroids = [kmeans_init_centroids(X, K)]\n",
    "    labels = []\n",
    "    it = 0\n",
    "    while True:\n",
    "        labels.append(kmeans_assign_labels(X, centroids[-1]))\n",
    "        new_centroids = kmeans_update_centroids(X, labels[-1], K)\n",
    "        if has_converged(centroids[-1], new_centroids):\n",
    "            break\n",
    "        centroids.append(new_centroids)\n",
    "        it+=1\n",
    "    return (centroids, labels, it)\n"
   ]
  },
  {
   "cell_type": "code",
   "execution_count": 10,
   "metadata": {},
   "outputs": [
    {
     "name": "stdout",
     "output_type": "stream",
     "text": [
      "Centers found by our algorithm:\n",
      " [[1.9834967  1.96588127]\n",
      " [3.02702878 5.95686115]\n",
      " [8.07476866 3.01494931]]\n"
     ]
    }
   ],
   "source": [
    "(centroids, labels, it) = kmeans(X, K)\n",
    "\n",
    "print('Centers found by our algorithm:\\n', centroids[-1]) "
   ]
  },
  {
   "attachments": {},
   "cell_type": "markdown",
   "metadata": {},
   "source": [
    "# Using libs"
   ]
  },
  {
   "cell_type": "code",
   "execution_count": 11,
   "metadata": {},
   "outputs": [
    {
     "name": "stderr",
     "output_type": "stream",
     "text": [
      "/home/phus/miniconda3/envs/ner-py38-ds-conda-env/lib/python3.8/site-packages/sklearn/cluster/_kmeans.py:870: FutureWarning: The default value of `n_init` will change from 10 to 'auto' in 1.4. Set the value of `n_init` explicitly to suppress the warning\n",
      "  warnings.warn(\n"
     ]
    },
    {
     "name": "stdout",
     "output_type": "stream",
     "text": [
      "Center found:\n",
      "[[8.07476866 3.01494931]\n",
      " [3.02429957 5.95334038]\n",
      " [1.98417154 1.96141961]]\n"
     ]
    }
   ],
   "source": [
    "from sklearn.cluster import KMeans\n",
    "model = KMeans(n_clusters=3, random_state=0).fit(X)\n",
    "\n",
    "print('Center found:')\n",
    "print(model.cluster_centers_)\n",
    "\n",
    "pred_labels = model.predict(X)"
   ]
  },
  {
   "attachments": {},
   "cell_type": "markdown",
   "metadata": {},
   "source": [
    "# Classify hand writing (shoud do on colab)"
   ]
  },
  {
   "cell_type": "code",
   "execution_count": null,
   "metadata": {},
   "outputs": [],
   "source": [
    "from __future__ import print_function \n",
    "import numpy as np \n",
    "from sklearn.datasets import fetch_openml\n",
    "\n",
    "data_dir = 'Self-Learning/Data'\n",
    "# path to your data folder \n",
    "mnist = fetch_openml('mnist-original', data_home=data_dir) \n",
    "print(\"Shape of minst data:\", mnist.data.shape)"
   ]
  }
 ],
 "metadata": {
  "kernelspec": {
   "display_name": "ner-py38-ds-conda-env",
   "language": "python",
   "name": "python3"
  },
  "language_info": {
   "codemirror_mode": {
    "name": "ipython",
    "version": 3
   },
   "file_extension": ".py",
   "mimetype": "text/x-python",
   "name": "python",
   "nbconvert_exporter": "python",
   "pygments_lexer": "ipython3",
   "version": "3.8.15"
  },
  "orig_nbformat": 4,
  "vscode": {
   "interpreter": {
    "hash": "23ebb4a4507fb8292995862024306c61b54b82497fd27fe6bf5dbe4586170e5a"
   }
  }
 },
 "nbformat": 4,
 "nbformat_minor": 2
}
